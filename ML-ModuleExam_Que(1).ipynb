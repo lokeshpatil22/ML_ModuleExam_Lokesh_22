{
 "cells": [
  {
   "cell_type": "code",
   "execution_count": 1,
   "id": "e7396ccb",
   "metadata": {},
   "outputs": [],
   "source": [
    "import pandas as pd\n",
    "import numpy as np\n",
    "import matplotlib.pyplot as plt\n",
    "import seaborn as sns"
   ]
  },
  {
   "cell_type": "code",
   "execution_count": 2,
   "id": "4393a9ee",
   "metadata": {},
   "outputs": [],
   "source": [
    "df=pd.read_csv('data.csv')"
   ]
  },
  {
   "cell_type": "code",
   "execution_count": 3,
   "id": "cfdf7116",
   "metadata": {},
   "outputs": [
    {
     "data": {
      "text/html": [
       "<div>\n",
       "<style scoped>\n",
       "    .dataframe tbody tr th:only-of-type {\n",
       "        vertical-align: middle;\n",
       "    }\n",
       "\n",
       "    .dataframe tbody tr th {\n",
       "        vertical-align: top;\n",
       "    }\n",
       "\n",
       "    .dataframe thead th {\n",
       "        text-align: right;\n",
       "    }\n",
       "</style>\n",
       "<table border=\"1\" class=\"dataframe\">\n",
       "  <thead>\n",
       "    <tr style=\"text-align: right;\">\n",
       "      <th></th>\n",
       "      <th>F</th>\n",
       "      <th>N</th>\n",
       "      <th>Prprice per square foot</th>\n",
       "    </tr>\n",
       "  </thead>\n",
       "  <tbody>\n",
       "    <tr>\n",
       "      <th>0</th>\n",
       "      <td>0.44</td>\n",
       "      <td>0.68</td>\n",
       "      <td>511.14</td>\n",
       "    </tr>\n",
       "    <tr>\n",
       "      <th>1</th>\n",
       "      <td>0.99</td>\n",
       "      <td>0.23</td>\n",
       "      <td>717.10</td>\n",
       "    </tr>\n",
       "    <tr>\n",
       "      <th>2</th>\n",
       "      <td>0.84</td>\n",
       "      <td>0.29</td>\n",
       "      <td>607.91</td>\n",
       "    </tr>\n",
       "    <tr>\n",
       "      <th>3</th>\n",
       "      <td>0.28</td>\n",
       "      <td>0.45</td>\n",
       "      <td>270.40</td>\n",
       "    </tr>\n",
       "    <tr>\n",
       "      <th>4</th>\n",
       "      <td>0.07</td>\n",
       "      <td>0.83</td>\n",
       "      <td>289.88</td>\n",
       "    </tr>\n",
       "    <tr>\n",
       "      <th>...</th>\n",
       "      <td>...</td>\n",
       "      <td>...</td>\n",
       "      <td>...</td>\n",
       "    </tr>\n",
       "    <tr>\n",
       "      <th>95</th>\n",
       "      <td>0.99</td>\n",
       "      <td>0.13</td>\n",
       "      <td>636.22</td>\n",
       "    </tr>\n",
       "    <tr>\n",
       "      <th>96</th>\n",
       "      <td>0.28</td>\n",
       "      <td>0.46</td>\n",
       "      <td>272.12</td>\n",
       "    </tr>\n",
       "    <tr>\n",
       "      <th>97</th>\n",
       "      <td>0.87</td>\n",
       "      <td>0.36</td>\n",
       "      <td>696.65</td>\n",
       "    </tr>\n",
       "    <tr>\n",
       "      <th>98</th>\n",
       "      <td>0.23</td>\n",
       "      <td>0.87</td>\n",
       "      <td>434.53</td>\n",
       "    </tr>\n",
       "    <tr>\n",
       "      <th>99</th>\n",
       "      <td>0.77</td>\n",
       "      <td>0.36</td>\n",
       "      <td>593.86</td>\n",
       "    </tr>\n",
       "  </tbody>\n",
       "</table>\n",
       "<p>100 rows × 3 columns</p>\n",
       "</div>"
      ],
      "text/plain": [
       "       F     N  Prprice per square foot\n",
       "0   0.44  0.68                   511.14\n",
       "1   0.99  0.23                   717.10\n",
       "2   0.84  0.29                   607.91\n",
       "3   0.28  0.45                   270.40\n",
       "4   0.07  0.83                   289.88\n",
       "..   ...   ...                      ...\n",
       "95  0.99  0.13                   636.22\n",
       "96  0.28  0.46                   272.12\n",
       "97  0.87  0.36                   696.65\n",
       "98  0.23  0.87                   434.53\n",
       "99  0.77  0.36                   593.86\n",
       "\n",
       "[100 rows x 3 columns]"
      ]
     },
     "execution_count": 3,
     "metadata": {},
     "output_type": "execute_result"
    }
   ],
   "source": [
    "df"
   ]
  },
  {
   "cell_type": "markdown",
   "id": "153ae45d",
   "metadata": {},
   "source": [
    "# EDA and Preprocessing"
   ]
  },
  {
   "cell_type": "code",
   "execution_count": 36,
   "id": "0461abda",
   "metadata": {},
   "outputs": [
    {
     "name": "stdout",
     "output_type": "stream",
     "text": [
      "<class 'pandas.core.frame.DataFrame'>\n",
      "RangeIndex: 100 entries, 0 to 99\n",
      "Data columns (total 3 columns):\n",
      " #   Column                   Non-Null Count  Dtype  \n",
      "---  ------                   --------------  -----  \n",
      " 0   F                        100 non-null    float64\n",
      " 1   N                        100 non-null    float64\n",
      " 2   Prprice per square foot  100 non-null    float64\n",
      "dtypes: float64(3)\n",
      "memory usage: 2.5 KB\n"
     ]
    }
   ],
   "source": [
    "df.info()"
   ]
  },
  {
   "cell_type": "code",
   "execution_count": 34,
   "id": "c4bf824e",
   "metadata": {},
   "outputs": [
    {
     "data": {
      "text/plain": [
       "F                          0\n",
       "N                          0\n",
       "Prprice per square foot    0\n",
       "dtype: int64"
      ]
     },
     "execution_count": 34,
     "metadata": {},
     "output_type": "execute_result"
    }
   ],
   "source": [
    "df.isnull().sum()"
   ]
  },
  {
   "cell_type": "code",
   "execution_count": 35,
   "id": "e39b4795",
   "metadata": {},
   "outputs": [
    {
     "data": {
      "text/html": [
       "<div>\n",
       "<style scoped>\n",
       "    .dataframe tbody tr th:only-of-type {\n",
       "        vertical-align: middle;\n",
       "    }\n",
       "\n",
       "    .dataframe tbody tr th {\n",
       "        vertical-align: top;\n",
       "    }\n",
       "\n",
       "    .dataframe thead th {\n",
       "        text-align: right;\n",
       "    }\n",
       "</style>\n",
       "<table border=\"1\" class=\"dataframe\">\n",
       "  <thead>\n",
       "    <tr style=\"text-align: right;\">\n",
       "      <th></th>\n",
       "      <th>F</th>\n",
       "      <th>N</th>\n",
       "      <th>Prprice per square foot</th>\n",
       "    </tr>\n",
       "  </thead>\n",
       "  <tbody>\n",
       "    <tr>\n",
       "      <th>count</th>\n",
       "      <td>100.000000</td>\n",
       "      <td>100.000000</td>\n",
       "      <td>100.000000</td>\n",
       "    </tr>\n",
       "    <tr>\n",
       "      <th>mean</th>\n",
       "      <td>0.550300</td>\n",
       "      <td>0.501700</td>\n",
       "      <td>554.214600</td>\n",
       "    </tr>\n",
       "    <tr>\n",
       "      <th>std</th>\n",
       "      <td>0.293841</td>\n",
       "      <td>0.307124</td>\n",
       "      <td>347.312796</td>\n",
       "    </tr>\n",
       "    <tr>\n",
       "      <th>min</th>\n",
       "      <td>0.010000</td>\n",
       "      <td>0.000000</td>\n",
       "      <td>42.080000</td>\n",
       "    </tr>\n",
       "    <tr>\n",
       "      <th>25%</th>\n",
       "      <td>0.300000</td>\n",
       "      <td>0.230000</td>\n",
       "      <td>278.172500</td>\n",
       "    </tr>\n",
       "    <tr>\n",
       "      <th>50%</th>\n",
       "      <td>0.570000</td>\n",
       "      <td>0.485000</td>\n",
       "      <td>514.285000</td>\n",
       "    </tr>\n",
       "    <tr>\n",
       "      <th>75%</th>\n",
       "      <td>0.822500</td>\n",
       "      <td>0.760000</td>\n",
       "      <td>751.752500</td>\n",
       "    </tr>\n",
       "    <tr>\n",
       "      <th>max</th>\n",
       "      <td>1.000000</td>\n",
       "      <td>0.990000</td>\n",
       "      <td>1563.820000</td>\n",
       "    </tr>\n",
       "  </tbody>\n",
       "</table>\n",
       "</div>"
      ],
      "text/plain": [
       "                F           N  Prprice per square foot\n",
       "count  100.000000  100.000000               100.000000\n",
       "mean     0.550300    0.501700               554.214600\n",
       "std      0.293841    0.307124               347.312796\n",
       "min      0.010000    0.000000                42.080000\n",
       "25%      0.300000    0.230000               278.172500\n",
       "50%      0.570000    0.485000               514.285000\n",
       "75%      0.822500    0.760000               751.752500\n",
       "max      1.000000    0.990000              1563.820000"
      ]
     },
     "execution_count": 35,
     "metadata": {},
     "output_type": "execute_result"
    }
   ],
   "source": [
    "df.describe()"
   ]
  },
  {
   "cell_type": "code",
   "execution_count": 33,
   "id": "69940386",
   "metadata": {},
   "outputs": [
    {
     "data": {
      "text/plain": [
       "<seaborn.axisgrid.PairGrid at 0x1c455f212b0>"
      ]
     },
     "execution_count": 33,
     "metadata": {},
     "output_type": "execute_result"
    },
    {
     "data": {
      "image/png": "[encoded data removed]",
      "text/plain": [
       "<Figure size 540x540 with 12 Axes>"
      ]
     },
     "metadata": {
      "needs_background": "light"
     },
     "output_type": "display_data"
    }
   ],
   "source": [
    "sns.pairplot(df)"
   ]
  },
  {
   "cell_type": "code",
   "execution_count": 4,
   "id": "48c7aae7",
   "metadata": {},
   "outputs": [
    {
     "data": {
      "text/plain": [
       "<AxesSubplot:xlabel='F', ylabel='Prprice per square foot'>"
      ]
     },
     "execution_count": 4,
     "metadata": {},
     "output_type": "execute_result"
    },
    {
     "data": {
      "image/png": "[encoded data removed]",
      "text/plain": [
       "<Figure size 432x288 with 1 Axes>"
      ]
     },
     "metadata": {
      "needs_background": "light"
     },
     "output_type": "display_data"
    }
   ],
   "source": [
    "sns.scatterplot(x='F',y='Prprice per square foot',data=df)"
   ]
  },
  {
   "cell_type": "code",
   "execution_count": 5,
   "id": "21522f87",
   "metadata": {},
   "outputs": [
    {
     "data": {
      "text/plain": [
       "<AxesSubplot:xlabel='N', ylabel='Prprice per square foot'>"
      ]
     },
     "execution_count": 5,
     "metadata": {},
     "output_type": "execute_result"
    },
    {
     "data": {
      "image/png": "[encoded data removed]",
      "text/plain": [
       "<Figure size 432x288 with 1 Axes>"
      ]
     },
     "metadata": {
      "needs_background": "light"
     },
     "output_type": "display_data"
    }
   ],
   "source": [
    "sns.scatterplot(x='N',y='Prprice per square foot',data=df)"
   ]
  },
  {
   "cell_type": "markdown",
   "id": "ba70aa73",
   "metadata": {},
   "source": [
    "From the plot above we saw that the datapoints are plotted in a curve that is why we will do polynomial regression."
   ]
  },
  {
   "cell_type": "markdown",
   "id": "e1a0ad08",
   "metadata": {},
   "source": [
    "# Splitting the dataset"
   ]
  },
  {
   "cell_type": "code",
   "execution_count": 6,
   "id": "16db47db",
   "metadata": {},
   "outputs": [],
   "source": [
    "x=df.iloc[:,:-1].values\n",
    "y=df.iloc[:,-1:].values"
   ]
  },
  {
   "cell_type": "code",
   "execution_count": 7,
   "id": "16dc3949",
   "metadata": {},
   "outputs": [
    {
     "data": {
      "text/plain": [
       "array([[0.44, 0.68],\n",
       "       [0.99, 0.23],\n",
       "       [0.84, 0.29],\n",
       "       [0.28, 0.45],\n",
       "       [0.07, 0.83],\n",
       "       [0.66, 0.8 ],\n",
       "       [0.73, 0.92],\n",
       "       [0.57, 0.43],\n",
       "       [0.43, 0.89],\n",
       "       [0.27, 0.95],\n",
       "       [0.43, 0.06],\n",
       "       [0.87, 0.91],\n",
       "       [0.78, 0.69],\n",
       "       [0.9 , 0.94],\n",
       "       [0.41, 0.06],\n",
       "       [0.52, 0.17],\n",
       "       [0.47, 0.66],\n",
       "       [0.65, 0.43],\n",
       "       [0.85, 0.64],\n",
       "       [0.93, 0.44],\n",
       "       [0.41, 0.93],\n",
       "       [0.36, 0.43],\n",
       "       [0.78, 0.85],\n",
       "       [0.69, 0.07],\n",
       "       [0.04, 0.52],\n",
       "       [0.17, 0.15],\n",
       "       [0.68, 0.13],\n",
       "       [0.84, 0.6 ],\n",
       "       [0.38, 0.4 ],\n",
       "       [0.12, 0.65],\n",
       "       [0.62, 0.17],\n",
       "       [0.79, 0.97],\n",
       "       [0.82, 0.04],\n",
       "       [0.91, 0.53],\n",
       "       [0.35, 0.85],\n",
       "       [0.57, 0.69],\n",
       "       [0.52, 0.22],\n",
       "       [0.31, 0.15],\n",
       "       [0.6 , 0.02],\n",
       "       [0.99, 0.91],\n",
       "       [0.48, 0.76],\n",
       "       [0.3 , 0.19],\n",
       "       [0.58, 0.62],\n",
       "       [0.65, 0.17],\n",
       "       [0.6 , 0.69],\n",
       "       [0.95, 0.76],\n",
       "       [0.47, 0.23],\n",
       "       [0.15, 0.96],\n",
       "       [0.01, 0.03],\n",
       "       [0.26, 0.23],\n",
       "       [0.01, 0.11],\n",
       "       [0.45, 0.87],\n",
       "       [0.09, 0.97],\n",
       "       [0.96, 0.25],\n",
       "       [0.63, 0.58],\n",
       "       [0.06, 0.42],\n",
       "       [0.1 , 0.24],\n",
       "       [0.26, 0.62],\n",
       "       [0.41, 0.15],\n",
       "       [0.91, 0.95],\n",
       "       [0.83, 0.64],\n",
       "       [0.44, 0.64],\n",
       "       [0.2 , 0.4 ],\n",
       "       [0.43, 0.12],\n",
       "       [0.21, 0.22],\n",
       "       [0.88, 0.4 ],\n",
       "       [0.31, 0.87],\n",
       "       [0.99, 0.99],\n",
       "       [0.23, 0.26],\n",
       "       [0.79, 0.12],\n",
       "       [0.02, 0.28],\n",
       "       [0.89, 0.48],\n",
       "       [0.02, 0.56],\n",
       "       [0.92, 0.03],\n",
       "       [0.72, 0.34],\n",
       "       [0.3 , 0.99],\n",
       "       [0.86, 0.66],\n",
       "       [0.47, 0.65],\n",
       "       [0.79, 0.94],\n",
       "       [0.82, 0.96],\n",
       "       [0.9 , 0.42],\n",
       "       [0.19, 0.62],\n",
       "       [0.7 , 0.57],\n",
       "       [0.7 , 0.61],\n",
       "       [0.69, 0.  ],\n",
       "       [0.98, 0.3 ],\n",
       "       [0.3 , 0.08],\n",
       "       [0.85, 0.49],\n",
       "       [0.73, 0.01],\n",
       "       [1.  , 0.23],\n",
       "       [0.42, 0.94],\n",
       "       [0.49, 0.98],\n",
       "       [0.89, 0.68],\n",
       "       [0.22, 0.46],\n",
       "       [0.34, 0.5 ],\n",
       "       [0.99, 0.13],\n",
       "       [0.28, 0.46],\n",
       "       [0.87, 0.36],\n",
       "       [0.23, 0.87],\n",
       "       [0.77, 0.36]])"
      ]
     },
     "execution_count": 7,
     "metadata": {},
     "output_type": "execute_result"
    }
   ],
   "source": [
    "x"
   ]
  },
  {
   "cell_type": "code",
   "execution_count": 8,
   "id": "76f7828b",
   "metadata": {},
   "outputs": [
    {
     "data": {
      "text/plain": [
       "array([[ 511.14],\n",
       "       [ 717.1 ],\n",
       "       [ 607.91],\n",
       "       [ 270.4 ],\n",
       "       [ 289.88],\n",
       "       [ 830.85],\n",
       "       [1038.09],\n",
       "       [ 455.19],\n",
       "       [ 640.17],\n",
       "       [ 511.06],\n",
       "       [ 177.03],\n",
       "       [1242.52],\n",
       "       [ 891.37],\n",
       "       [1339.72],\n",
       "       [ 169.88],\n",
       "       [ 276.05],\n",
       "       [ 517.43],\n",
       "       [ 522.25],\n",
       "       [ 932.21],\n",
       "       [ 851.25],\n",
       "       [ 640.11],\n",
       "       [ 308.68],\n",
       "       [1046.05],\n",
       "       [ 332.4 ],\n",
       "       [ 171.85],\n",
       "       [ 109.55],\n",
       "       [ 361.97],\n",
       "       [ 872.21],\n",
       "       [ 303.7 ],\n",
       "       [ 256.38],\n",
       "       [ 341.2 ],\n",
       "       [1194.63],\n",
       "       [ 408.6 ],\n",
       "       [ 895.54],\n",
       "       [ 518.25],\n",
       "       [ 638.75],\n",
       "       [ 301.9 ],\n",
       "       [ 163.38],\n",
       "       [ 240.77],\n",
       "       [1449.05],\n",
       "       [ 609.  ],\n",
       "       [ 174.59],\n",
       "       [ 593.45],\n",
       "       [ 355.96],\n",
       "       [ 671.46],\n",
       "       [1193.7 ],\n",
       "       [ 278.88],\n",
       "       [ 411.4 ],\n",
       "       [  42.08],\n",
       "       [ 166.19],\n",
       "       [  58.62],\n",
       "       [ 642.45],\n",
       "       [ 368.14],\n",
       "       [ 702.78],\n",
       "       [ 615.74],\n",
       "       [ 143.79],\n",
       "       [ 109.  ],\n",
       "       [ 328.28],\n",
       "       [ 205.16],\n",
       "       [1360.49],\n",
       "       [ 905.83],\n",
       "       [ 487.33],\n",
       "       [ 202.76],\n",
       "       [ 202.01],\n",
       "       [ 148.87],\n",
       "       [ 745.3 ],\n",
       "       [ 503.04],\n",
       "       [1563.82],\n",
       "       [ 165.21],\n",
       "       [ 438.4 ],\n",
       "       [  98.47],\n",
       "       [ 819.63],\n",
       "       [ 174.44],\n",
       "       [ 483.13],\n",
       "       [ 534.24],\n",
       "       [ 572.31],\n",
       "       [ 957.61],\n",
       "       [ 518.29],\n",
       "       [1143.49],\n",
       "       [1211.31],\n",
       "       [ 784.74],\n",
       "       [ 283.7 ],\n",
       "       [ 684.38],\n",
       "       [ 719.46],\n",
       "       [ 292.23],\n",
       "       [ 775.68],\n",
       "       [ 130.77],\n",
       "       [ 801.6 ],\n",
       "       [ 323.55],\n",
       "       [ 726.9 ],\n",
       "       [ 661.12],\n",
       "       [ 771.11],\n",
       "       [1016.14],\n",
       "       [ 237.69],\n",
       "       [ 325.89],\n",
       "       [ 636.22],\n",
       "       [ 272.12],\n",
       "       [ 696.65],\n",
       "       [ 434.53],\n",
       "       [ 593.86]])"
      ]
     },
     "execution_count": 8,
     "metadata": {},
     "output_type": "execute_result"
    }
   ],
   "source": [
    "y"
   ]
  },
  {
   "cell_type": "markdown",
   "id": "e7ec6f6b",
   "metadata": {},
   "source": [
    "# Splitting into Train and Test"
   ]
  },
  {
   "cell_type": "code",
   "execution_count": 9,
   "id": "0d6ab3b4",
   "metadata": {},
   "outputs": [],
   "source": [
    "from sklearn.model_selection import train_test_split\n",
    "x_train,x_test,y_train,y_test=train_test_split(x,y,test_size=0.3,random_state=0)"
   ]
  },
  {
   "cell_type": "code",
   "execution_count": 10,
   "id": "47083757",
   "metadata": {},
   "outputs": [
    {
     "data": {
      "text/plain": [
       "array([[0.83, 0.64],\n",
       "       [0.9 , 0.42],\n",
       "       [0.42, 0.94],\n",
       "       [0.23, 0.26],\n",
       "       [0.45, 0.87],\n",
       "       [0.84, 0.6 ],\n",
       "       [0.85, 0.64],\n",
       "       [0.1 , 0.24],\n",
       "       [0.43, 0.12],\n",
       "       [0.72, 0.34],\n",
       "       [0.99, 0.23],\n",
       "       [0.44, 0.64],\n",
       "       [0.58, 0.62],\n",
       "       [0.3 , 0.19],\n",
       "       [0.07, 0.83],\n",
       "       [0.52, 0.17],\n",
       "       [0.65, 0.43],\n",
       "       [0.48, 0.76],\n",
       "       [0.6 , 0.02],\n",
       "       [0.66, 0.8 ],\n",
       "       [0.49, 0.98],\n",
       "       [0.91, 0.95],\n",
       "       [0.44, 0.68],\n",
       "       [0.35, 0.85],\n",
       "       [0.38, 0.4 ],\n",
       "       [0.01, 0.11],\n",
       "       [0.87, 0.91],\n",
       "       [0.57, 0.69],\n",
       "       [0.69, 0.07],\n",
       "       [0.09, 0.97],\n",
       "       [0.43, 0.06],\n",
       "       [0.79, 0.97],\n",
       "       [0.31, 0.87],\n",
       "       [0.26, 0.62],\n",
       "       [0.82, 0.96],\n",
       "       [0.98, 0.3 ],\n",
       "       [0.82, 0.04],\n",
       "       [0.69, 0.  ],\n",
       "       [0.41, 0.06],\n",
       "       [1.  , 0.23],\n",
       "       [0.93, 0.44],\n",
       "       [0.12, 0.65],\n",
       "       [0.26, 0.23],\n",
       "       [0.87, 0.36],\n",
       "       [0.23, 0.87],\n",
       "       [0.79, 0.12],\n",
       "       [0.41, 0.93],\n",
       "       [0.34, 0.5 ],\n",
       "       [0.02, 0.56],\n",
       "       [0.47, 0.65],\n",
       "       [0.17, 0.15],\n",
       "       [0.31, 0.15],\n",
       "       [0.19, 0.62],\n",
       "       [0.47, 0.23],\n",
       "       [0.99, 0.91],\n",
       "       [0.88, 0.4 ],\n",
       "       [0.41, 0.15],\n",
       "       [0.78, 0.69],\n",
       "       [0.73, 0.01],\n",
       "       [0.02, 0.28],\n",
       "       [0.85, 0.49],\n",
       "       [0.52, 0.22],\n",
       "       [0.36, 0.43],\n",
       "       [0.7 , 0.61],\n",
       "       [0.27, 0.95],\n",
       "       [0.28, 0.46],\n",
       "       [0.99, 0.99],\n",
       "       [0.21, 0.22],\n",
       "       [0.15, 0.96],\n",
       "       [0.6 , 0.69]])"
      ]
     },
     "execution_count": 10,
     "metadata": {},
     "output_type": "execute_result"
    }
   ],
   "source": [
    "x_train"
   ]
  },
  {
   "cell_type": "code",
   "execution_count": 11,
   "id": "c8e551b5",
   "metadata": {},
   "outputs": [
    {
     "data": {
      "text/plain": [
       "array([[ 905.83],\n",
       "       [ 784.74],\n",
       "       [ 661.12],\n",
       "       [ 165.21],\n",
       "       [ 642.45],\n",
       "       [ 872.21],\n",
       "       [ 932.21],\n",
       "       [ 109.  ],\n",
       "       [ 202.01],\n",
       "       [ 534.24],\n",
       "       [ 717.1 ],\n",
       "       [ 487.33],\n",
       "       [ 593.45],\n",
       "       [ 174.59],\n",
       "       [ 289.88],\n",
       "       [ 276.05],\n",
       "       [ 522.25],\n",
       "       [ 609.  ],\n",
       "       [ 240.77],\n",
       "       [ 830.85],\n",
       "       [ 771.11],\n",
       "       [1360.49],\n",
       "       [ 511.14],\n",
       "       [ 518.25],\n",
       "       [ 303.7 ],\n",
       "       [  58.62],\n",
       "       [1242.52],\n",
       "       [ 638.75],\n",
       "       [ 332.4 ],\n",
       "       [ 368.14],\n",
       "       [ 177.03],\n",
       "       [1194.63],\n",
       "       [ 503.04],\n",
       "       [ 328.28],\n",
       "       [1211.31],\n",
       "       [ 775.68],\n",
       "       [ 408.6 ],\n",
       "       [ 292.23],\n",
       "       [ 169.88],\n",
       "       [ 726.9 ],\n",
       "       [ 851.25],\n",
       "       [ 256.38],\n",
       "       [ 166.19],\n",
       "       [ 696.65],\n",
       "       [ 434.53],\n",
       "       [ 438.4 ],\n",
       "       [ 640.11],\n",
       "       [ 325.89],\n",
       "       [ 174.44],\n",
       "       [ 518.29],\n",
       "       [ 109.55],\n",
       "       [ 163.38],\n",
       "       [ 283.7 ],\n",
       "       [ 278.88],\n",
       "       [1449.05],\n",
       "       [ 745.3 ],\n",
       "       [ 205.16],\n",
       "       [ 891.37],\n",
       "       [ 323.55],\n",
       "       [  98.47],\n",
       "       [ 801.6 ],\n",
       "       [ 301.9 ],\n",
       "       [ 308.68],\n",
       "       [ 719.46],\n",
       "       [ 511.06],\n",
       "       [ 272.12],\n",
       "       [1563.82],\n",
       "       [ 148.87],\n",
       "       [ 411.4 ],\n",
       "       [ 671.46]])"
      ]
     },
     "execution_count": 11,
     "metadata": {},
     "output_type": "execute_result"
    }
   ],
   "source": [
    "y_train"
   ]
  },
  {
   "cell_type": "markdown",
   "id": "68e20020",
   "metadata": {},
   "source": [
    "# Linear Regression"
   ]
  },
  {
   "cell_type": "code",
   "execution_count": 12,
   "id": "2b3bc504",
   "metadata": {},
   "outputs": [
    {
     "data": {
      "text/plain": [
       "LinearRegression()"
      ]
     },
     "execution_count": 12,
     "metadata": {},
     "output_type": "execute_result"
    }
   ],
   "source": [
    "from sklearn.linear_model import LinearRegression\n",
    "lin_reg=LinearRegression()\n",
    "lin_reg.fit(x_train,y_train)"
   ]
  },
  {
   "cell_type": "markdown",
   "id": "340bf930",
   "metadata": {},
   "source": [
    "# Polynomial Regression of degree 2"
   ]
  },
  {
   "cell_type": "code",
   "execution_count": 13,
   "id": "f4fb4635",
   "metadata": {},
   "outputs": [
    {
     "data": {
      "text/plain": [
       "LinearRegression()"
      ]
     },
     "execution_count": 13,
     "metadata": {},
     "output_type": "execute_result"
    }
   ],
   "source": [
    "from sklearn.preprocessing import PolynomialFeatures\n",
    "poly_reg=PolynomialFeatures(degree=2)\n",
    "x_poly=poly_reg.fit_transform(x_train)\n",
    "lin_reg_2=LinearRegression()\n",
    "lin_reg_2.fit(x_poly,y_train)"
   ]
  },
  {
   "cell_type": "code",
   "execution_count": 14,
   "id": "6ac2a740",
   "metadata": {},
   "outputs": [
    {
     "data": {
      "text/plain": [
       "array([[ 357.17362017],\n",
       "       [ 134.62134083],\n",
       "       [ 612.51419335],\n",
       "       [ 144.24521615],\n",
       "       [ 573.42050286],\n",
       "       [ 228.16895798],\n",
       "       [ 521.14150108],\n",
       "       [ 483.95666764],\n",
       "       [ 623.8493532 ],\n",
       "       [ 633.60623163],\n",
       "       [ 706.75933684],\n",
       "       [1030.57919001],\n",
       "       [1155.32251691],\n",
       "       [1326.45920604],\n",
       "       [ 459.54869951],\n",
       "       [ 337.81684363],\n",
       "       [1048.22575817],\n",
       "       [ 161.886029  ],\n",
       "       [ 907.89161529],\n",
       "       [ 642.42721708],\n",
       "       [ 359.53213642],\n",
       "       [ 196.12388051],\n",
       "       [ 258.21132424],\n",
       "       [ 835.00725517],\n",
       "       [1202.72891739],\n",
       "       [  82.96763707],\n",
       "       [1047.11232779],\n",
       "       [ 597.18430664],\n",
       "       [ 691.571971  ],\n",
       "       [ 969.46051522]])"
      ]
     },
     "execution_count": 14,
     "metadata": {},
     "output_type": "execute_result"
    }
   ],
   "source": [
    "y_pred=lin_reg_2.predict(poly_reg.fit_transform(x_test))\n",
    "y_pred"
   ]
  },
  {
   "cell_type": "markdown",
   "id": "1b4e006c",
   "metadata": {},
   "source": [
    "# Polynomial Regression of degree 3"
   ]
  },
  {
   "cell_type": "code",
   "execution_count": 15,
   "id": "a70c54d2",
   "metadata": {},
   "outputs": [
    {
     "data": {
      "text/plain": [
       "LinearRegression()"
      ]
     },
     "execution_count": 15,
     "metadata": {},
     "output_type": "execute_result"
    }
   ],
   "source": [
    "from sklearn.preprocessing import PolynomialFeatures\n",
    "poly_reg=PolynomialFeatures(degree=3)\n",
    "x_poly=poly_reg.fit_transform(x_train)\n",
    "lin_reg_3=LinearRegression()\n",
    "lin_reg_3.fit(x_poly,y_train)"
   ]
  },
  {
   "cell_type": "code",
   "execution_count": 17,
   "id": "f8cccfbd",
   "metadata": {},
   "outputs": [
    {
     "data": {
      "text/plain": [
       "array([[ 359.69822599],\n",
       "       [ 131.69469235],\n",
       "       [ 610.03937113],\n",
       "       [ 149.21030432],\n",
       "       [ 565.89710297],\n",
       "       [ 237.34726884],\n",
       "       [ 521.00202284],\n",
       "       [ 484.11497884],\n",
       "       [ 620.90943623],\n",
       "       [ 631.82726913],\n",
       "       [ 703.83356342],\n",
       "       [1027.65800721],\n",
       "       [1151.52997806],\n",
       "       [1331.96311525],\n",
       "       [ 461.32548945],\n",
       "       [ 341.12705786],\n",
       "       [1042.77436008],\n",
       "       [ 170.2804545 ],\n",
       "       [ 904.09899596],\n",
       "       [ 635.6113259 ],\n",
       "       [ 362.32147286],\n",
       "       [ 204.13439557],\n",
       "       [ 266.89829492],\n",
       "       [ 830.80900695],\n",
       "       [1205.35430134],\n",
       "       [  41.0148524 ],\n",
       "       [1040.01002485],\n",
       "       [ 594.93031387],\n",
       "       [ 687.37271799],\n",
       "       [ 965.27904618]])"
      ]
     },
     "execution_count": 17,
     "metadata": {},
     "output_type": "execute_result"
    }
   ],
   "source": [
    "y_pred2=lin_reg_3.predict(poly_reg.fit_transform(x_test))\n",
    "y_pred2"
   ]
  },
  {
   "cell_type": "markdown",
   "id": "9f606347",
   "metadata": {},
   "source": [
    "# Performance metrics"
   ]
  },
  {
   "cell_type": "code",
   "execution_count": 23,
   "id": "914a52be",
   "metadata": {},
   "outputs": [],
   "source": [
    "from sklearn import metrics\n",
    "import statsmodels.api as sm"
   ]
  },
  {
   "cell_type": "code",
   "execution_count": 31,
   "id": "43658fc0",
   "metadata": {},
   "outputs": [
    {
     "name": "stdout",
     "output_type": "stream",
     "text": [
      "118.34109058118055\n",
      "31.117883358598338\n"
     ]
    }
   ],
   "source": [
    "print(metrics.mean_squared_error(y_test,y_pred))\n",
    "print(metrics.mean_squared_error(y_test,y_pred2))\n"
   ]
  },
  {
   "cell_type": "markdown",
   "id": "5ec8aa3c",
   "metadata": {},
   "source": [
    "y_pred3 has minimum error that is 31.11."
   ]
  },
  {
   "cell_type": "code",
   "execution_count": 30,
   "id": "1f5eaf6d",
   "metadata": {},
   "outputs": [
    {
     "name": "stdout",
     "output_type": "stream",
     "text": [
      "0.9990105117892579\n",
      "0.9997398132924468\n"
     ]
    }
   ],
   "source": [
    "print(metrics.r2_score(y_test,y_pred))\n",
    "print(metrics.r2_score(y_test,y_pred2))\n"
   ]
  },
  {
   "cell_type": "markdown",
   "id": "c922b5c2",
   "metadata": {},
   "source": [
    "y_pred3 has maximum accuracy that is 99.97%."
   ]
  },
  {
   "cell_type": "code",
   "execution_count": 32,
   "id": "446dc1a9",
   "metadata": {},
   "outputs": [
    {
     "data": {
      "text/html": [
       "<table class=\"simpletable\">\n",
       "<caption>OLS Regression Results</caption>\n",
       "<tr>\n",
       "  <th>Dep. Variable:</th>            <td>y</td>        <th>  R-squared:         </th> <td>   0.938</td>\n",
       "</tr>\n",
       "<tr>\n",
       "  <th>Model:</th>                   <td>OLS</td>       <th>  Adj. R-squared:    </th> <td>   0.937</td>\n",
       "</tr>\n",
       "<tr>\n",
       "  <th>Method:</th>             <td>Least Squares</td>  <th>  F-statistic:       </th> <td>   510.5</td>\n",
       "</tr>\n",
       "<tr>\n",
       "  <th>Date:</th>             <td>Sat, 06 Aug 2022</td> <th>  Prob (F-statistic):</th> <td>2.79e-41</td>\n",
       "</tr>\n",
       "<tr>\n",
       "  <th>Time:</th>                 <td>18:26:07</td>     <th>  Log-Likelihood:    </th> <td> -410.40</td>\n",
       "</tr>\n",
       "<tr>\n",
       "  <th>No. Observations:</th>      <td>    70</td>      <th>  AIC:               </th> <td>   826.8</td>\n",
       "</tr>\n",
       "<tr>\n",
       "  <th>Df Residuals:</th>          <td>    67</td>      <th>  BIC:               </th> <td>   833.5</td>\n",
       "</tr>\n",
       "<tr>\n",
       "  <th>Df Model:</th>              <td>     2</td>      <th>                     </th>     <td> </td>   \n",
       "</tr>\n",
       "<tr>\n",
       "  <th>Covariance Type:</th>      <td>nonrobust</td>    <th>                     </th>     <td> </td>   \n",
       "</tr>\n",
       "</table>\n",
       "<table class=\"simpletable\">\n",
       "<tr>\n",
       "    <td></td>       <th>coef</th>     <th>std err</th>      <th>t</th>      <th>P>|t|</th>  <th>[0.025</th>    <th>0.975]</th>  \n",
       "</tr>\n",
       "<tr>\n",
       "  <th>const</th> <td> -275.3976</td> <td>   27.328</td> <td>  -10.078</td> <td> 0.000</td> <td> -329.944</td> <td> -220.852</td>\n",
       "</tr>\n",
       "<tr>\n",
       "  <th>x1</th>    <td>  900.2997</td> <td>   36.490</td> <td>   24.672</td> <td> 0.000</td> <td>  827.465</td> <td>  973.135</td>\n",
       "</tr>\n",
       "<tr>\n",
       "  <th>x2</th>    <td>  662.4219</td> <td>   33.285</td> <td>   19.902</td> <td> 0.000</td> <td>  595.985</td> <td>  728.859</td>\n",
       "</tr>\n",
       "</table>\n",
       "<table class=\"simpletable\">\n",
       "<tr>\n",
       "  <th>Omnibus:</th>       <td>26.825</td> <th>  Durbin-Watson:     </th> <td>   1.902</td>\n",
       "</tr>\n",
       "<tr>\n",
       "  <th>Prob(Omnibus):</th> <td> 0.000</td> <th>  Jarque-Bera (JB):  </th> <td>  40.135</td>\n",
       "</tr>\n",
       "<tr>\n",
       "  <th>Skew:</th>          <td> 1.574</td> <th>  Prob(JB):          </th> <td>1.93e-09</td>\n",
       "</tr>\n",
       "<tr>\n",
       "  <th>Kurtosis:</th>      <td> 4.964</td> <th>  Cond. No.          </th> <td>    5.26</td>\n",
       "</tr>\n",
       "</table><br/><br/>Notes:<br/>[1] Standard Errors assume that the covariance matrix of the errors is correctly specified."
      ],
      "text/plain": [
       "<class 'statsmodels.iolib.summary.Summary'>\n",
       "\"\"\"\n",
       "                            OLS Regression Results                            \n",
       "==============================================================================\n",
       "Dep. Variable:                      y   R-squared:                       0.938\n",
       "Model:                            OLS   Adj. R-squared:                  0.937\n",
       "Method:                 Least Squares   F-statistic:                     510.5\n",
       "Date:                Sat, 06 Aug 2022   Prob (F-statistic):           2.79e-41\n",
       "Time:                        18:26:07   Log-Likelihood:                -410.40\n",
       "No. Observations:                  70   AIC:                             826.8\n",
       "Df Residuals:                      67   BIC:                             833.5\n",
       "Df Model:                           2                                         \n",
       "Covariance Type:            nonrobust                                         \n",
       "==============================================================================\n",
       "                 coef    std err          t      P>|t|      [0.025      0.975]\n",
       "------------------------------------------------------------------------------\n",
       "const       -275.3976     27.328    -10.078      0.000    -329.944    -220.852\n",
       "x1           900.2997     36.490     24.672      0.000     827.465     973.135\n",
       "x2           662.4219     33.285     19.902      0.000     595.985     728.859\n",
       "==============================================================================\n",
       "Omnibus:                       26.825   Durbin-Watson:                   1.902\n",
       "Prob(Omnibus):                  0.000   Jarque-Bera (JB):               40.135\n",
       "Skew:                           1.574   Prob(JB):                     1.93e-09\n",
       "Kurtosis:                       4.964   Cond. No.                         5.26\n",
       "==============================================================================\n",
       "\n",
       "Notes:\n",
       "[1] Standard Errors assume that the covariance matrix of the errors is correctly specified.\n",
       "\"\"\""
      ]
     },
     "execution_count": 32,
     "metadata": {},
     "output_type": "execute_result"
    }
   ],
   "source": [
    "X1_stat=sm.add_constant(x_train)\n",
    "Summ=sm.OLS(y_train,X1_stat).fit()\n",
    "Summ.summary()"
   ]
  },
  {
   "cell_type": "markdown",
   "id": "a5eaf908",
   "metadata": {},
   "source": [
    "# Conclusion"
   ]
  },
  {
   "cell_type": "markdown",
   "id": "9fb95012",
   "metadata": {},
   "source": [
    "As we can see from the polynomial regression's performance metric values the equation with degree 3 has minimum MSE and the accuracy is more with degree 3.\n",
    "\n",
    "So we can choose the model with degree 3 which has less error and maximum error."
   ]
  },
  {
   "cell_type": "code",
   "execution_count": null,
   "id": "d906f67b",
   "metadata": {},
   "outputs": [],
   "source": []
  }
 ],
 "metadata": {
  "kernelspec": {
   "display_name": "Python 3 (ipykernel)",
   "language": "python",
   "name": "python3"
  },
  "language_info": {
   "codemirror_mode": {
    "name": "ipython",
    "version": 3
   },
   "file_extension": ".py",
   "mimetype": "text/x-python",
   "name": "python",
   "nbconvert_exporter": "python",
   "pygments_lexer": "ipython3",
   "version": "3.9.12"
  }
 },
 "nbformat": 4,
 "nbformat_minor": 5
}
